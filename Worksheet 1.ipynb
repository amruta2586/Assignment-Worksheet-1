{
 "cells": [
  {
   "cell_type": "markdown",
   "id": "2f712d97",
   "metadata": {},
   "source": [
    "Q11-Write a python program to find the factorial of a number."
   ]
  },
  {
   "cell_type": "code",
   "execution_count": 1,
   "id": "4faba290",
   "metadata": {},
   "outputs": [
    {
     "name": "stdout",
     "output_type": "stream",
     "text": [
      "Enter a number:5\n",
      "The factorial of 5 is 120\n"
     ]
    }
   ],
   "source": [
    "num=int(input(\"Enter a number:\"))\n",
    "factorail=1\n",
    "\n",
    "if num<0:\n",
    "    print(\"Factorial does not exist for negative numbers:\")\n",
    "    \n",
    "elif num==0:\n",
    "    print(\"The factorail of 0 is 1\")\n",
    "    \n",
    "else:\n",
    "    for i in range (1,num+1):\n",
    "        factorail=factorail*i\n",
    "    print(\"The factorial of\",num,\"is\",factorail)    "
   ]
  },
  {
   "cell_type": "markdown",
   "id": "dda4b799",
   "metadata": {},
   "source": [
    "Q12- Write a python program to find whether a number is prime or composite"
   ]
  },
  {
   "cell_type": "code",
   "execution_count": 2,
   "id": "ee003731",
   "metadata": {},
   "outputs": [
    {
     "name": "stdout",
     "output_type": "stream",
     "text": [
      "Enter a number to check:11\n",
      "The number is a prime number.\n"
     ]
    }
   ],
   "source": [
    "Input=int(input(\"Enter a number to check:\"))\n",
    "count=0\n",
    "\n",
    "for number in range(1,Input+1):\n",
    "    remainder=Input%number\n",
    "    if(remainder==0):\n",
    "        count=count+1\n",
    "        \n",
    "if (count==1):\n",
    "    print(\"The number is neither prime nor composite number.\")\n",
    "    \n",
    "if (count==2):\n",
    "    print(\"The number is a prime number.\")\n",
    "    \n",
    "elif(count>3):\n",
    "    print(\"The number is a composite number.\")"
   ]
  },
  {
   "cell_type": "markdown",
   "id": "9c12e5a6",
   "metadata": {},
   "source": [
    "Q13-Write a python program to check whether a given string is palindrome or not."
   ]
  },
  {
   "cell_type": "code",
   "execution_count": 3,
   "id": "704568dd",
   "metadata": {},
   "outputs": [
    {
     "name": "stdout",
     "output_type": "stream",
     "text": [
      "Enter any number:5\n",
      "The number is palindrome!\n"
     ]
    }
   ],
   "source": [
    "number=int(input(\"Enter any number:\"))\n",
    "temp=number\n",
    "reverse_num=0\n",
    "while(number>0):\n",
    "    digit=number%10\n",
    "    reverse_num=reverse_num*10+digit\n",
    "    number=number//10\n",
    "    if(temp==reverse_num):\n",
    "        print(\"The number is palindrome!\")\n",
    "    else:\n",
    "        print(\"Not a palindrome!\")"
   ]
  },
  {
   "cell_type": "markdown",
   "id": "7fdca0e5",
   "metadata": {},
   "source": [
    "Q14-Write a Python program to get the third side of right-angled triangle from two given sides. "
   ]
  },
  {
   "cell_type": "code",
   "execution_count": 5,
   "id": "2dda9f35",
   "metadata": {},
   "outputs": [],
   "source": [
    "from math import sqrt"
   ]
  },
  {
   "cell_type": "code",
   "execution_count": 6,
   "id": "32f1edd2",
   "metadata": {},
   "outputs": [
    {
     "name": "stdout",
     "output_type": "stream",
     "text": [
      "Input lenghts of shorter triangle side:\n",
      "a: 10\n",
      "b: 5\n",
      "The lenght of the hypotenuse is: 11.180339887498949\n"
     ]
    }
   ],
   "source": [
    "print(\"Input lenghts of shorter triangle side:\")\n",
    "a=float(input(\"a: \"))\n",
    "b=float(input(\"b: \"))\n",
    "c=sqrt(a**2+b**2)\n",
    "print(\"The lenght of the hypotenuse is:\",c)"
   ]
  },
  {
   "cell_type": "markdown",
   "id": "8020a6c4",
   "metadata": {},
   "source": [
    "Q15-. Write a python program to print the frequency of each of the characters present in a given string."
   ]
  },
  {
   "cell_type": "code",
   "execution_count": 7,
   "id": "032d73a7",
   "metadata": {},
   "outputs": [
    {
     "name": "stdout",
     "output_type": "stream",
     "text": [
      "{'h': 1, 'e': 1, 'l': 3, 'o': 2, ' ': 1, 'w': 1, 'r': 1, 'd': 1}\n"
     ]
    }
   ],
   "source": [
    "def char_frequency(str1):\n",
    "    dict={}\n",
    "    for n in str1:\n",
    "        keys=dict.keys()\n",
    "        if n in keys:\n",
    "            dict[n]+=1\n",
    "        else:\n",
    "            dict[n]=1\n",
    "    return dict\n",
    "print(char_frequency('hello world'))"
   ]
  },
  {
   "cell_type": "code",
   "execution_count": null,
   "id": "61aeda7b",
   "metadata": {},
   "outputs": [],
   "source": []
  }
 ],
 "metadata": {
  "kernelspec": {
   "display_name": "Python 3 (ipykernel)",
   "language": "python",
   "name": "python3"
  },
  "language_info": {
   "codemirror_mode": {
    "name": "ipython",
    "version": 3
   },
   "file_extension": ".py",
   "mimetype": "text/x-python",
   "name": "python",
   "nbconvert_exporter": "python",
   "pygments_lexer": "ipython3",
   "version": "3.9.13"
  }
 },
 "nbformat": 4,
 "nbformat_minor": 5
}
